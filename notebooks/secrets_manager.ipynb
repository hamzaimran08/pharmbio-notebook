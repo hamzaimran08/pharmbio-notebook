{
 "cells": [
  {
   "cell_type": "code",
   "execution_count": 18,
   "metadata": {},
   "outputs": [],
   "source": [
    "### THIS SCRIPT WILL PRINT ALL SECRETS IN THE CREDENTIALS FOLDER FOR YOU TO USE FOR OTHER STUFF\n",
    "\n",
    "from os import listdir, path\n",
    "\n",
    "secrets = [path.join(\"/credentials\", item) for item in listdir(\"/credentials\")]\n",
    "\n",
    "for secret in secrets:\n",
    "    files = [path.join(secret, key) for key in list(filter(lambda s: not s[0] == \".\", listdir(secret)))]\n",
    "    for key in files:\n",
    "        keyname = key.split('/')[len(key.split('/'))-1]\n",
    "        print(key)\n",
    "        value = None\n",
    "        with open(key, 'r') as keyfile:\n",
    "            value = keyfile.read()\n",
    "        print(\"Key: {}, value: {}\\n\".format(keyname, value))\n",
    "        \n",
    "\n"
   ]
  },
  {
   "cell_type": "code",
   "execution_count": null,
   "metadata": {},
   "outputs": [],
   "source": []
  }
 ],
 "metadata": {
  "kernelspec": {
   "display_name": "Python 3",
   "language": "python",
   "name": "python3"
  },
  "language_info": {
   "codemirror_mode": {
    "name": "ipython",
    "version": 3
   },
   "file_extension": ".py",
   "mimetype": "text/x-python",
   "name": "python",
   "nbconvert_exporter": "python",
   "pygments_lexer": "ipython3",
   "version": "3.5.2"
  }
 },
 "nbformat": 4,
 "nbformat_minor": 2
}
